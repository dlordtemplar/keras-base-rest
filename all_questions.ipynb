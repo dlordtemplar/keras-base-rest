{
 "cells": [
  {
   "cell_type": "code",
   "execution_count": 1,
   "metadata": {
    "collapsed": true,
    "pycharm": {
     "is_executing": false
    }
   },
   "outputs": [
    {
     "name": "stdout",
     "text": [
      "Picking GPU 0\n",
      "Threads:  1790\nQuestions:  1790\nComments:  17900\n"
     ],
     "output_type": "stream"
    }
   ],
   "source": [
    "import json\n",
    "from sklearn.manifold import TSNE\n",
    "\n",
    "from loading_preprocessing_TC import *\n",
    "DATASET_PATH = 'resources/datasets/semeval/train/'\n",
    "files = [DATASET_PATH + 'SemEval2016-Task3-CQA-QL-train-part1-subtaskA.xml',\n",
    "             DATASET_PATH + 'SemEval2016-Task3-CQA-QL-train-part2-subtaskA.xml']\n",
    "train_xml = read_xml(files)\n",
    "train, answer_texts_train = xml2dataframe_Labels(train_xml, 'train')\n",
    "answer_texts_train.set_index('answer_id', drop=False, inplace=True)\n",
    "\n",
    "# qa_pairs, answer_texts = load_data()"
   ]
  },
  {
   "cell_type": "code",
   "execution_count": 2,
   "outputs": [
    {
     "name": "stdout",
     "text": [
      "                                                   question  \\\nQ1_R1     massage oil is there any place i can find scen...   \nQ1_R6     Philipino Massage center Hi;Can any one tell m...   \nQ1_R8     Best place for massage Tell me; where is the b...   \nQ1_R10    body massage hi there; i can see a lot of mass...   \nQ1_R22    What attracts you more ? What attracts you more ?   \nQ1_R25    You have got to be joking.....Seen in a shop i...   \nQ1_R27    Blackheads Any suggestions on how to get rid o...   \nQ1_R32    Where to get Tea Tree Oil Can someone please a...   \nQ1_R43    \"very strong migraine pain what to do ? plz he...   \nQ1_R46    --Garlic Oil-- Can someone please tell me wher...   \nQ2_R20    Convert Tourist visa to Family visit visa Hi a...   \nQ2_R21    Maximum period of a Visit Visa? I'm currently ...   \nQ2_R32    Re-apply family visit visa (no need to wait 3 ...   \nQ2_R46    Visa Extension for My Sister in Law Dear All; ...   \nQ2_R60    Family visit visa extension in Imigration? Dea...   \nQ2_R65    New Visit Visa Extension My sponsor; who is my...   \nQ2_R74    Family visit visa query Is it a requirement to...   \nQ2_R80    Return ticket required for the Family visit vi...   \nQ2_R81    What is the right visa to stay in qatar? Hi; M...   \nQ2_R83    Multiple entry Visit Visa Is there any option ...   \nQ3_R13    MAXIMUM PERIOD OF EXTENDING VISIT VISA????????...   \nQ3_R46    Is it true??? VISIT VISA???? Is it true that p...   \nQ3_R49    extended visa to business visa My visa is visi...   \nQ3_R60    Resigning within probation period Dear All; I ...   \nQ3_R61    Visit Visa/Work Visa Hi Guys; Do U any have id...   \nQ3_R68    Business Visa and NOC Hello everyone; I'm alre...   \nQ3_R77    Absconding I'm outside of Qatar for 5 months n...   \nQ3_R79    Changing your profession on Residence visa My ...   \nQ4_R6     Family visa Hello I would like to know what ar...   \nQ4_R8     Visa cancellation without passport Can my spon...   \n...                                                     ...   \nQ264_R37  What to do for the next few evenings? Since it...   \nQ264_R41  Which date do the bars open post Ramadan? I ha...   \nQ264_R46  Pork in doha Guys; do you have any idea if por...   \nQ264_R56  most entertaining places in Doha ? hi i would ...   \nQ265_R2   i want stop smoking ? i am dilay smoking 6 pcs...   \nQ265_R3   I want to quit smoking. where can i get Nicoti...   \nQ265_R5   I need to quit smoking.please help me any madi...   \nQ265_R7   can i stop smoking?? Hi; Friends I start smoke...   \nQ265_R9   Quit Smoking.... Want to quit smoking real bad...   \nQ265_R12  Quitting smoking--Anyone quit ? So i am attemp...   \nQ265_R14  to quit smoking I want to quit smoking. where ...   \nQ265_R17  Have you quit smoking>? What benefits did you ...   \nQ265_R20  Only Smokers Please!! Hello Smokers ! Just wan...   \nQ266_R11  Doha Port - Shipping from UK Hi; I am having s...   \nQ266_R31  BBQ grill; should I bring one from US? Should ...   \nQ266_R35  Outback Australia What do you think life in th...   \nQ266_R36  Aramex vs FedEx or DHL? Recently; I spotted a ...   \nQ266_R51  Do you shop online with auctions? I am setting...   \nQ266_R61  DUST STORM!!! Anybody experienced like this he...   \nQ266_R65  What is the way to STOP hair falling in middle...   \nQ267_R1   Best place to buy laptop in Doha? Hi guys. Whe...   \nQ267_R4   Which laptop to buy ? Please advise. Hi2uevery...   \nQ267_R6   what to compare when buying laptop? hi guys; I...   \nQ267_R14  Best Gaming Laptop in Qatar is..? I want to bu...   \nQ267_R15  Which company; dell or hp; is the best for lap...   \nQ267_R28  Laptops which laptop is the best..??? -> Sony ...   \nQ267_R32  regarding laptops Hi... Can u tell me which is...   \nQ267_R37  is it best to buy a laptop in uk before i move...   \nQ267_R44  Which the one of the best laptop one should go...   \nQ267_R48  Where in Doha is the best place to buy a laptop?    \n\n                                                 answer_ids  \\\nQ1_R1                        [Q1_R1_C1, Q1_R1_C3, Q1_R1_C5]   \nQ1_R6                       [Q1_R6_C3, Q1_R6_C4, Q1_R6_C10]   \nQ1_R8                                  [Q1_R8_C1, Q1_R8_C3]   \nQ1_R10    [Q1_R10_C1, Q1_R10_C2, Q1_R10_C3, Q1_R10_C4, Q...   \nQ1_R22    [Q1_R22_C1, Q1_R22_C2, Q1_R22_C3, Q1_R22_C4, Q...   \nQ1_R25                   [Q1_R25_C2, Q1_R25_C3, Q1_R25_C10]   \nQ1_R27                               [Q1_R27_C1, Q1_R27_C2]   \nQ1_R32        [Q1_R32_C1, Q1_R32_C3, Q1_R32_C8, Q1_R32_C10]   \nQ1_R43    [Q1_R43_C1, Q1_R43_C3, Q1_R43_C4, Q1_R43_C5, Q...   \nQ1_R46                                          [Q1_R46_C3]   \nQ2_R20    [Q2_R20_C1, Q2_R20_C4, Q2_R20_C5, Q2_R20_C6, Q...   \nQ2_R21    [Q2_R21_C1, Q2_R21_C2, Q2_R21_C5, Q2_R21_C7, Q...   \nQ2_R32                    [Q2_R32_C1, Q2_R32_C2, Q2_R32_C3]   \nQ2_R46    [Q2_R46_C1, Q2_R46_C2, Q2_R46_C3, Q2_R46_C5, Q...   \nQ2_R60         [Q2_R60_C1, Q2_R60_C2, Q2_R60_C4, Q2_R60_C6]   \nQ2_R65    [Q2_R65_C1, Q2_R65_C2, Q2_R65_C3, Q2_R65_C4, Q...   \nQ2_R74    [Q2_R74_C1, Q2_R74_C2, Q2_R74_C3, Q2_R74_C8, Q...   \nQ2_R80    [Q2_R80_C1, Q2_R80_C2, Q2_R80_C4, Q2_R80_C5, Q...   \nQ2_R81    [Q2_R81_C1, Q2_R81_C3, Q2_R81_C4, Q2_R81_C5, Q...   \nQ2_R83    [Q2_R83_C1, Q2_R83_C4, Q2_R83_C5, Q2_R83_C6, Q...   \nQ3_R13    [Q3_R13_C1, Q3_R13_C2, Q3_R13_C3, Q3_R13_C4, Q...   \nQ3_R46                               [Q3_R46_C8, Q3_R46_C9]   \nQ3_R49                              [Q3_R49_C6, Q3_R49_C10]   \nQ3_R60    [Q3_R60_C1, Q3_R60_C2, Q3_R60_C3, Q3_R60_C4, Q...   \nQ3_R61                                          [Q3_R61_C2]   \nQ3_R68         [Q3_R68_C1, Q3_R68_C2, Q3_R68_C3, Q3_R68_C5]   \nQ3_R77    [Q3_R77_C1, Q3_R77_C5, Q3_R77_C6, Q3_R77_C8, Q...   \nQ3_R79         [Q3_R79_C1, Q3_R79_C6, Q3_R79_C7, Q3_R79_C8]   \nQ4_R6                                  [Q4_R6_C1, Q4_R6_C6]   \nQ4_R8                                            [Q4_R8_C2]   \n...                                                     ...   \nQ264_R37                         [Q264_R37_C1, Q264_R37_C7]   \nQ264_R41                         [Q264_R41_C1, Q264_R41_C3]   \nQ264_R46                                                 []   \nQ264_R56  [Q264_R56_C2, Q264_R56_C3, Q264_R56_C4, Q264_R...   \nQ265_R2   [Q265_R2_C1, Q265_R2_C2, Q265_R2_C3, Q265_R2_C...   \nQ265_R3               [Q265_R3_C1, Q265_R3_C9, Q265_R3_C10]   \nQ265_R5                            [Q265_R5_C1, Q265_R5_C2]   \nQ265_R7   [Q265_R7_C3, Q265_R7_C4, Q265_R7_C5, Q265_R7_C...   \nQ265_R9                                        [Q265_R9_C7]   \nQ265_R12            [Q265_R12_C1, Q265_R12_C4, Q265_R12_C8]   \nQ265_R14                                      [Q265_R14_C6]   \nQ265_R17  [Q265_R17_C1, Q265_R17_C2, Q265_R17_C3, Q265_R...   \nQ265_R20                         [Q265_R20_C1, Q265_R20_C2]   \nQ266_R11  [Q266_R11_C1, Q266_R11_C3, Q266_R11_C6, Q266_R...   \nQ266_R31  [Q266_R31_C1, Q266_R31_C2, Q266_R31_C3, Q266_R...   \nQ266_R35  [Q266_R35_C1, Q266_R35_C4, Q266_R35_C5, Q266_R...   \nQ266_R36  [Q266_R36_C1, Q266_R36_C2, Q266_R36_C4, Q266_R...   \nQ266_R51  [Q266_R51_C1, Q266_R51_C2, Q266_R51_C3, Q266_R...   \nQ266_R61  [Q266_R61_C1, Q266_R61_C2, Q266_R61_C3, Q266_R...   \nQ266_R65            [Q266_R65_C6, Q266_R65_C7, Q266_R65_C8]   \nQ267_R1    [Q267_R1_C1, Q267_R1_C3, Q267_R1_C4, Q267_R1_C8]   \nQ267_R4    [Q267_R4_C1, Q267_R4_C5, Q267_R4_C8, Q267_R4_C9]   \nQ267_R6                                        [Q267_R6_C3]   \nQ267_R14  [Q267_R14_C3, Q267_R14_C4, Q267_R14_C5, Q267_R...   \nQ267_R15  [Q267_R15_C1, Q267_R15_C2, Q267_R15_C3, Q267_R...   \nQ267_R28  [Q267_R28_C1, Q267_R28_C2, Q267_R28_C3, Q267_R...   \nQ267_R32  [Q267_R32_C1, Q267_R32_C6, Q267_R32_C7, Q267_R...   \nQ267_R37  [Q267_R37_C1, Q267_R37_C2, Q267_R37_C5, Q267_R...   \nQ267_R44  [Q267_R44_C1, Q267_R44_C2, Q267_R44_C3, Q267_R...   \nQ267_R48  [Q267_R48_C1, Q267_R48_C2, Q267_R48_C3, Q267_R...   \n\n                                                       pool split_type    qid  \\\nQ1_R1     [Q1_R1_C2, Q1_R1_C4, Q1_R1_C6, Q1_R1_C7, Q1_R1...      train    1.0   \nQ1_R6     [Q1_R6_C1, Q1_R6_C2, Q1_R6_C5, Q1_R6_C6, Q1_R6...      train    1.0   \nQ1_R8     [Q1_R8_C2, Q1_R8_C4, Q1_R8_C5, Q1_R8_C6, Q1_R8...      train    1.0   \nQ1_R10        [Q1_R10_C7, Q1_R10_C8, Q1_R10_C9, Q1_R10_C10]      train    1.0   \nQ1_R22                                                   []      train    1.0   \nQ1_R25    [Q1_R25_C1, Q1_R25_C4, Q1_R25_C5, Q1_R25_C6, Q...      train    1.0   \nQ1_R27    [Q1_R27_C3, Q1_R27_C4, Q1_R27_C5, Q1_R27_C6, Q...      train    1.0   \nQ1_R32    [Q1_R32_C2, Q1_R32_C4, Q1_R32_C5, Q1_R32_C6, Q...      train    1.0   \nQ1_R43                    [Q1_R43_C2, Q1_R43_C7, Q1_R43_C9]      train    1.0   \nQ1_R46    [Q1_R46_C1, Q1_R46_C2, Q1_R46_C4, Q1_R46_C5, Q...      train    1.0   \nQ2_R20    [Q2_R20_C2, Q2_R20_C3, Q2_R20_C8, Q2_R20_C9, Q...      train    2.0   \nQ2_R21         [Q2_R21_C3, Q2_R21_C4, Q2_R21_C6, Q2_R21_C9]      train    2.0   \nQ2_R32    [Q2_R32_C4, Q2_R32_C5, Q2_R32_C6, Q2_R32_C7, Q...      train    2.0   \nQ2_R46    [Q2_R46_C4, Q2_R46_C7, Q2_R46_C8, Q2_R46_C9, Q...      train    2.0   \nQ2_R60    [Q2_R60_C3, Q2_R60_C5, Q2_R60_C7, Q2_R60_C8, Q...      train    2.0   \nQ2_R65                   [Q2_R65_C6, Q2_R65_C8, Q2_R65_C10]      train    2.0   \nQ2_R74    [Q2_R74_C4, Q2_R74_C5, Q2_R74_C6, Q2_R74_C7, Q...      train    2.0   \nQ2_R80    [Q2_R80_C3, Q2_R80_C7, Q2_R80_C8, Q2_R80_C9, Q...      train    2.0   \nQ2_R81         [Q2_R81_C2, Q2_R81_C6, Q2_R81_C7, Q2_R81_C8]      train    2.0   \nQ2_R83                   [Q2_R83_C2, Q2_R83_C3, Q2_R83_C10]      train    2.0   \nQ3_R13                                                   []      train    3.0   \nQ3_R46    [Q3_R46_C1, Q3_R46_C2, Q3_R46_C3, Q3_R46_C4, Q...      train    3.0   \nQ3_R49    [Q3_R49_C1, Q3_R49_C2, Q3_R49_C3, Q3_R49_C4, Q...      train    3.0   \nQ3_R60                              [Q3_R60_C6, Q3_R60_C10]      train    3.0   \nQ3_R61    [Q3_R61_C1, Q3_R61_C3, Q3_R61_C4, Q3_R61_C5, Q...      train    3.0   \nQ3_R68    [Q3_R68_C4, Q3_R68_C6, Q3_R68_C7, Q3_R68_C8, Q...      train    3.0   \nQ3_R77    [Q3_R77_C2, Q3_R77_C3, Q3_R77_C4, Q3_R77_C7, Q...      train    3.0   \nQ3_R79    [Q3_R79_C2, Q3_R79_C3, Q3_R79_C4, Q3_R79_C5, Q...      train    3.0   \nQ4_R6     [Q4_R6_C2, Q4_R6_C3, Q4_R6_C4, Q4_R6_C5, Q4_R6...      train    4.0   \nQ4_R8     [Q4_R8_C1, Q4_R8_C3, Q4_R8_C4, Q4_R8_C5, Q4_R8...      train    4.0   \n...                                                     ...        ...    ...   \nQ264_R37  [Q264_R37_C2, Q264_R37_C3, Q264_R37_C4, Q264_R...      train  264.0   \nQ264_R41  [Q264_R41_C2, Q264_R41_C4, Q264_R41_C5, Q264_R...      train  264.0   \nQ264_R46  [Q264_R46_C1, Q264_R46_C2, Q264_R46_C3, Q264_R...      train  264.0   \nQ264_R56  [Q264_R56_C1, Q264_R56_C5, Q264_R56_C7, Q264_R...      train  264.0   \nQ265_R2                [Q265_R2_C4, Q265_R2_C7, Q265_R2_C8]      train  265.0   \nQ265_R3   [Q265_R3_C2, Q265_R3_C3, Q265_R3_C4, Q265_R3_C...      train  265.0   \nQ265_R5   [Q265_R5_C3, Q265_R5_C4, Q265_R5_C5, Q265_R5_C...      train  265.0   \nQ265_R7                [Q265_R7_C1, Q265_R7_C2, Q265_R7_C8]      train  265.0   \nQ265_R9   [Q265_R9_C1, Q265_R9_C2, Q265_R9_C3, Q265_R9_C...      train  265.0   \nQ265_R12  [Q265_R12_C2, Q265_R12_C3, Q265_R12_C5, Q265_R...      train  265.0   \nQ265_R14  [Q265_R14_C1, Q265_R14_C2, Q265_R14_C3, Q265_R...      train  265.0   \nQ265_R17  [Q265_R17_C5, Q265_R17_C7, Q265_R17_C8, Q265_R...      train  265.0   \nQ265_R20  [Q265_R20_C3, Q265_R20_C4, Q265_R20_C5, Q265_R...      train  265.0   \nQ266_R11  [Q266_R11_C2, Q266_R11_C4, Q266_R11_C5, Q266_R...      train  266.0   \nQ266_R31            [Q266_R31_C4, Q266_R31_C6, Q266_R31_C8]      train  266.0   \nQ266_R35  [Q266_R35_C2, Q266_R35_C3, Q266_R35_C6, Q266_R...      train  266.0   \nQ266_R36           [Q266_R36_C3, Q266_R36_C7, Q266_R36_C10]      train  266.0   \nQ266_R51  [Q266_R51_C5, Q266_R51_C6, Q266_R51_C7, Q266_R...      train  266.0   \nQ266_R61  [Q266_R61_C5, Q266_R61_C6, Q266_R61_C7, Q266_R...      train  266.0   \nQ266_R65  [Q266_R65_C1, Q266_R65_C2, Q266_R65_C3, Q266_R...      train  266.0   \nQ267_R1   [Q267_R1_C2, Q267_R1_C5, Q267_R1_C6, Q267_R1_C...      train  267.0   \nQ267_R4   [Q267_R4_C2, Q267_R4_C3, Q267_R4_C4, Q267_R4_C...      train  267.0   \nQ267_R6   [Q267_R6_C1, Q267_R6_C2, Q267_R6_C4, Q267_R6_C...      train  267.0   \nQ267_R14            [Q267_R14_C1, Q267_R14_C2, Q267_R14_C6]      train  267.0   \nQ267_R15            [Q267_R15_C7, Q267_R15_C8, Q267_R15_C9]      train  267.0   \nQ267_R28                         [Q267_R28_C4, Q267_R28_C9]      train  267.0   \nQ267_R32  [Q267_R32_C2, Q267_R32_C3, Q267_R32_C4, Q267_R...      train  267.0   \nQ267_R37                         [Q267_R37_C3, Q267_R37_C4]      train  267.0   \nQ267_R44                                                 []      train  267.0   \nQ267_R48                        [Q267_R48_C8, Q267_R48_C10]      train  267.0   \n\n           rid  \nQ1_R1      1.0  \nQ1_R6      6.0  \nQ1_R8      8.0  \nQ1_R10    10.0  \nQ1_R22    22.0  \nQ1_R25    25.0  \nQ1_R27    27.0  \nQ1_R32    32.0  \nQ1_R43    43.0  \nQ1_R46    46.0  \nQ2_R20    20.0  \nQ2_R21    21.0  \nQ2_R32    32.0  \nQ2_R46    46.0  \nQ2_R60    60.0  \nQ2_R65    65.0  \nQ2_R74    74.0  \nQ2_R80    80.0  \nQ2_R81    81.0  \nQ2_R83    83.0  \nQ3_R13    13.0  \nQ3_R46    46.0  \nQ3_R49    49.0  \nQ3_R60    60.0  \nQ3_R61    61.0  \nQ3_R68    68.0  \nQ3_R77    77.0  \nQ3_R79    79.0  \nQ4_R6      6.0  \nQ4_R8      8.0  \n...        ...  \nQ264_R37  37.0  \nQ264_R41  41.0  \nQ264_R46  46.0  \nQ264_R56  56.0  \nQ265_R2    2.0  \nQ265_R3    3.0  \nQ265_R5    5.0  \nQ265_R7    7.0  \nQ265_R9    9.0  \nQ265_R12  12.0  \nQ265_R14  14.0  \nQ265_R17  17.0  \nQ265_R20  20.0  \nQ266_R11  11.0  \nQ266_R31  31.0  \nQ266_R35  35.0  \nQ266_R36  36.0  \nQ266_R51  51.0  \nQ266_R61  61.0  \nQ266_R65  65.0  \nQ267_R1    1.0  \nQ267_R4    4.0  \nQ267_R6    6.0  \nQ267_R14  14.0  \nQ267_R15  15.0  \nQ267_R28  28.0  \nQ267_R32  32.0  \nQ267_R37  37.0  \nQ267_R44  44.0  \nQ267_R48  48.0  \n\n[1790 rows x 6 columns]\n"
     ],
     "output_type": "stream"
    }
   ],
   "source": [
    "qa_pairs = train\n",
    "print(qa_pairs)"
   ],
   "metadata": {
    "collapsed": false,
    "pycharm": {
     "name": "#%%\n",
     "is_executing": false
    }
   }
  },
  {
   "cell_type": "code",
   "execution_count": 3,
   "outputs": [
    {
     "name": "stdout",
     "text": [
      "17900\n"
     ],
     "output_type": "stream"
    }
   ],
   "source": [
    "answer_texts = answer_texts_train\n",
    "print(len(answer_texts))"
   ],
   "metadata": {
    "collapsed": false,
    "pycharm": {
     "name": "#%%\n",
     "is_executing": false
    }
   }
  },
  {
   "cell_type": "code",
   "execution_count": 4,
   "outputs": [
    {
     "name": "stderr",
     "text": [
      "Using TensorFlow backend.\n"
     ],
     "output_type": "stream"
    }
   ],
   "source": [
    "import pickle\n",
    "from keras.preprocessing.sequence import pad_sequences\n",
    "\n",
    "MAX_LENGTH = 200\n",
    "\n",
    "DATA_PATH = 'out/data/semeval/'\n",
    "with open(DATA_PATH + 'tokenizer.p', 'rb') as handle:\n",
    "    tokenizer = pickle.load(handle)\n",
    "with open(DATA_PATH + 'embedding_matrix.p', 'rb') as handle:\n",
    "    embeddings = pickle.load(handle)\n",
    "\n",
    "def prepare_data(texts):\n",
    "    \"\"\"Tokenize texts and pad resulting sequences of words using Keras functions.\"\"\"\n",
    "    global tokenizer, embeddings\n",
    "    tokens = tokenizer.texts_to_sequences(texts)\n",
    "    padded_tokens = pad_sequences(tokens, maxlen=MAX_LENGTH, value=embeddings.shape[0] - 1)\n",
    "    return tokens, padded_tokens\n"
   ],
   "metadata": {
    "collapsed": false,
    "pycharm": {
     "name": "#%%\n",
     "is_executing": false
    }
   }
  },
  {
   "cell_type": "code",
   "execution_count": 13,
   "outputs": [
    {
     "name": "stdout",
     "text": [
      "1790\nTSNE on all questions...\n",
      "Finished!\n[[-116800.47    58959.984]\n [ -12122.51   -54090.035]\n [ -37651.28   -47161.92 ]\n ...\n [-110689.164   50524.766]\n [-113138.95    54886.64 ]\n [-117892.77    63516.04 ]]\n"
     ],
     "output_type": "stream"
    }
   ],
   "source": [
    "perplexity = 20\n",
    "print(len(qa_pairs))\n",
    "all_questions = []\n",
    "for i in range(len(qa_pairs)):\n",
    "    current_row = qa_pairs.iloc[i]\n",
    "    question = current_row['question']\n",
    "    # print(question)\n",
    "    q_tokens, q_padded_tokens = prepare_data([question])\n",
    "    # print('q_tokens', q_tokens[0])\n",
    "    # print('q_padded_tokens', q_padded_tokens[0])\n",
    "    # print(q_tokens, q_padded_tokens)\n",
    "    all_questions.append(q_padded_tokens[0])\n",
    "# question_vector = rnn_values[0]\n",
    "# print(question_vector)\n",
    "# print(all_questions)\n",
    "print('TSNE on all questions...')\n",
    "tsne_model = TSNE(perplexity=perplexity, n_components=2, init='pca', n_iter=2500, random_state=23,\n",
    "                      metric=\"cosine\")\n",
    "new_values = tsne_model.fit_transform(all_questions)\n",
    "print('Finished!')\n",
    "print(new_values)\n"
   ],
   "metadata": {
    "collapsed": false,
    "pycharm": {
     "name": "#%%\n",
     "is_executing": false
    }
   }
  },
  {
   "cell_type": "code",
   "execution_count": 14,
   "outputs": [
    {
     "name": "stdout",
     "text": [
      "Writing to file...\nFinished!\n"
     ],
     "output_type": "stream"
    }
   ],
   "source": [
    "trace_question_x = []\n",
    "trace_question_y = []\n",
    "trace_question_text = []\n",
    "trace_question_hovertext = []\n",
    "\n",
    "for i in range(len(qa_pairs)):\n",
    "    question = qa_pairs.iloc[i]['question']\n",
    "    trace_question_x.append(new_values[i][0])\n",
    "    trace_question_y.append(new_values[i][1])\n",
    "    trace_question_text.append('Q' + str(i))\n",
    "    trace_question_hovertext.append(question if len(question) < 61 else question[:60] + '...')\n",
    "\n",
    "marker_blue = {\n",
    "        'size': 20,\n",
    "        'color': 'rgb(0, 0, 255)',\n",
    "        # star\n",
    "        'symbol': 17\n",
    "    }\n",
    "trace_question = {\n",
    "        'name': 'Question',\n",
    "        'x': trace_question_x,\n",
    "        'y': trace_question_y,\n",
    "        'type': 'scatter',\n",
    "        'mode': 'markers+text',\n",
    "        'hoverinfo': 'text',\n",
    "        'hovertext': trace_question_hovertext,\n",
    "        'text': trace_question_text,\n",
    "        'textposition': 'top right',\n",
    "        'marker': marker_blue\n",
    "    }\n",
    "\n",
    "plotly_tsne = [trace_question]\n",
    "plotly_tsne_as_json = pd.Series(plotly_tsne).to_json(orient='values')\n",
    "\n",
    "# print(plotly_tsne_as_json)\n",
    "print('Writing to file...')\n",
    "with open('out/data/plotly_all_questions_json_string_p20.json', 'w') as outfile:  \n",
    "    json.dump(plotly_tsne_as_json, outfile)\n",
    "    print('Finished!')"
   ],
   "metadata": {
    "collapsed": false,
    "pycharm": {
     "name": "#%%\n",
     "is_executing": false
    }
   }
  }
 ],
 "metadata": {
  "language_info": {
   "codemirror_mode": {
    "name": "ipython",
    "version": 2
   },
   "file_extension": ".py",
   "mimetype": "text/x-python",
   "name": "python",
   "nbconvert_exporter": "python",
   "pygments_lexer": "ipython2",
   "version": "2.7.6"
  },
  "kernelspec": {
   "name": "python3",
   "language": "python",
   "display_name": "Python 3"
  },
  "pycharm": {
   "stem_cell": {
    "cell_type": "raw",
    "source": [],
    "metadata": {
     "collapsed": false
    }
   }
  }
 },
 "nbformat": 4,
 "nbformat_minor": 0
}